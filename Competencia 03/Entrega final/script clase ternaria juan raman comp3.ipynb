{
 "cells": [
  {
   "cell_type": "code",
   "execution_count": 7,
   "metadata": {},
   "outputs": [
    {
     "data": {
      "text/html": [
       "<table class=\"data-frame\"><thead><tr><th></th><th>numero_de_cliente</th><th>foto_mes</th><th>active_quarter</th><th>cliente_vip</th><th>internet</th><th>cliente_edad</th></tr><tr><th></th><th>Int64</th><th>Int64</th><th>Int64</th><th>Int64</th><th>Int64</th><th>Int64</th></tr></thead><tbody><p>4,893,028 rows × 154 columns (omitted printing of 148 columns)</p><tr><th>1</th><td>29183981</td><td>201901</td><td>1</td><td>0</td><td>1</td><td>48</td></tr><tr><th>2</th><td>29183981</td><td>201902</td><td>1</td><td>0</td><td>1</td><td>48</td></tr><tr><th>3</th><td>29183981</td><td>201903</td><td>1</td><td>0</td><td>1</td><td>48</td></tr><tr><th>4</th><td>29183981</td><td>201904</td><td>1</td><td>0</td><td>1</td><td>48</td></tr><tr><th>5</th><td>29183981</td><td>201905</td><td>1</td><td>0</td><td>1</td><td>48</td></tr><tr><th>6</th><td>29183981</td><td>201906</td><td>1</td><td>0</td><td>1</td><td>48</td></tr><tr><th>7</th><td>29183981</td><td>201907</td><td>1</td><td>0</td><td>1</td><td>48</td></tr><tr><th>8</th><td>29183981</td><td>201908</td><td>1</td><td>0</td><td>1</td><td>48</td></tr><tr><th>9</th><td>29183981</td><td>201909</td><td>1</td><td>0</td><td>1</td><td>48</td></tr><tr><th>10</th><td>29183981</td><td>201910</td><td>1</td><td>0</td><td>1</td><td>48</td></tr><tr><th>11</th><td>29183981</td><td>201911</td><td>1</td><td>0</td><td>1</td><td>48</td></tr><tr><th>12</th><td>29183981</td><td>201912</td><td>1</td><td>0</td><td>1</td><td>48</td></tr><tr><th>13</th><td>29183981</td><td>202001</td><td>1</td><td>0</td><td>1</td><td>49</td></tr><tr><th>14</th><td>29183981</td><td>202002</td><td>1</td><td>0</td><td>1</td><td>49</td></tr><tr><th>15</th><td>29183981</td><td>202003</td><td>1</td><td>0</td><td>1</td><td>49</td></tr><tr><th>16</th><td>29183981</td><td>202004</td><td>1</td><td>0</td><td>1</td><td>49</td></tr><tr><th>17</th><td>29183981</td><td>202005</td><td>1</td><td>0</td><td>1</td><td>49</td></tr><tr><th>18</th><td>29183981</td><td>202006</td><td>0</td><td>0</td><td>0</td><td>49</td></tr><tr><th>19</th><td>29183981</td><td>202007</td><td>1</td><td>0</td><td>1</td><td>49</td></tr><tr><th>20</th><td>29183981</td><td>202008</td><td>1</td><td>0</td><td>1</td><td>49</td></tr><tr><th>21</th><td>29183981</td><td>202009</td><td>1</td><td>0</td><td>1</td><td>49</td></tr><tr><th>22</th><td>29183981</td><td>202010</td><td>1</td><td>0</td><td>0</td><td>49</td></tr><tr><th>23</th><td>29183981</td><td>202011</td><td>1</td><td>0</td><td>0</td><td>49</td></tr><tr><th>24</th><td>29183981</td><td>202012</td><td>1</td><td>0</td><td>0</td><td>49</td></tr><tr><th>&vellip;</th><td>&vellip;</td><td>&vellip;</td><td>&vellip;</td><td>&vellip;</td><td>&vellip;</td><td>&vellip;</td></tr></tbody></table>"
      ],
      "text/latex": [
       "\\begin{tabular}{r|ccccccc}\n",
       "\t& numero\\_de\\_cliente & foto\\_mes & active\\_quarter & cliente\\_vip & internet & cliente\\_edad & \\\\\n",
       "\t\\hline\n",
       "\t& Int64 & Int64 & Int64 & Int64 & Int64 & Int64 & \\\\\n",
       "\t\\hline\n",
       "\t1 & 29183981 & 201901 & 1 & 0 & 1 & 48 & $\\dots$ \\\\\n",
       "\t2 & 29183981 & 201902 & 1 & 0 & 1 & 48 & $\\dots$ \\\\\n",
       "\t3 & 29183981 & 201903 & 1 & 0 & 1 & 48 & $\\dots$ \\\\\n",
       "\t4 & 29183981 & 201904 & 1 & 0 & 1 & 48 & $\\dots$ \\\\\n",
       "\t5 & 29183981 & 201905 & 1 & 0 & 1 & 48 & $\\dots$ \\\\\n",
       "\t6 & 29183981 & 201906 & 1 & 0 & 1 & 48 & $\\dots$ \\\\\n",
       "\t7 & 29183981 & 201907 & 1 & 0 & 1 & 48 & $\\dots$ \\\\\n",
       "\t8 & 29183981 & 201908 & 1 & 0 & 1 & 48 & $\\dots$ \\\\\n",
       "\t9 & 29183981 & 201909 & 1 & 0 & 1 & 48 & $\\dots$ \\\\\n",
       "\t10 & 29183981 & 201910 & 1 & 0 & 1 & 48 & $\\dots$ \\\\\n",
       "\t11 & 29183981 & 201911 & 1 & 0 & 1 & 48 & $\\dots$ \\\\\n",
       "\t12 & 29183981 & 201912 & 1 & 0 & 1 & 48 & $\\dots$ \\\\\n",
       "\t13 & 29183981 & 202001 & 1 & 0 & 1 & 49 & $\\dots$ \\\\\n",
       "\t14 & 29183981 & 202002 & 1 & 0 & 1 & 49 & $\\dots$ \\\\\n",
       "\t15 & 29183981 & 202003 & 1 & 0 & 1 & 49 & $\\dots$ \\\\\n",
       "\t16 & 29183981 & 202004 & 1 & 0 & 1 & 49 & $\\dots$ \\\\\n",
       "\t17 & 29183981 & 202005 & 1 & 0 & 1 & 49 & $\\dots$ \\\\\n",
       "\t18 & 29183981 & 202006 & 0 & 0 & 0 & 49 & $\\dots$ \\\\\n",
       "\t19 & 29183981 & 202007 & 1 & 0 & 1 & 49 & $\\dots$ \\\\\n",
       "\t20 & 29183981 & 202008 & 1 & 0 & 1 & 49 & $\\dots$ \\\\\n",
       "\t21 & 29183981 & 202009 & 1 & 0 & 1 & 49 & $\\dots$ \\\\\n",
       "\t22 & 29183981 & 202010 & 1 & 0 & 0 & 49 & $\\dots$ \\\\\n",
       "\t23 & 29183981 & 202011 & 1 & 0 & 0 & 49 & $\\dots$ \\\\\n",
       "\t24 & 29183981 & 202012 & 1 & 0 & 0 & 49 & $\\dots$ \\\\\n",
       "\t$\\dots$ & $\\dots$ & $\\dots$ & $\\dots$ & $\\dots$ & $\\dots$ & $\\dots$ &  \\\\\n",
       "\\end{tabular}\n"
      ],
      "text/plain": [
       "4893028×154 DataFrame. Omitted printing of 150 columns\n",
       "│ Row     │ numero_de_cliente │ foto_mes │ active_quarter │ cliente_vip │\n",
       "│         │ \u001b[90mInt64\u001b[39m             │ \u001b[90mInt64\u001b[39m    │ \u001b[90mInt64\u001b[39m          │ \u001b[90mInt64\u001b[39m       │\n",
       "├─────────┼───────────────────┼──────────┼────────────────┼─────────────┤\n",
       "│ 1       │ 29183981          │ 201901   │ 1              │ 0           │\n",
       "│ 2       │ 29183981          │ 201902   │ 1              │ 0           │\n",
       "│ 3       │ 29183981          │ 201903   │ 1              │ 0           │\n",
       "│ 4       │ 29183981          │ 201904   │ 1              │ 0           │\n",
       "│ 5       │ 29183981          │ 201905   │ 1              │ 0           │\n",
       "│ 6       │ 29183981          │ 201906   │ 1              │ 0           │\n",
       "│ 7       │ 29183981          │ 201907   │ 1              │ 0           │\n",
       "⋮\n",
       "│ 4893021 │ 188095983         │ 202109   │ 0              │ 0           │\n",
       "│ 4893022 │ 188102798         │ 202109   │ 1              │ 0           │\n",
       "│ 4893023 │ 188106555         │ 202109   │ 0              │ 0           │\n",
       "│ 4893024 │ 188116410         │ 202109   │ 1              │ 0           │\n",
       "│ 4893025 │ 188117144         │ 202109   │ 0              │ 0           │\n",
       "│ 4893026 │ 188119945         │ 202109   │ 0              │ 0           │\n",
       "│ 4893027 │ 188127016         │ 202109   │ 0              │ 0           │\n",
       "│ 4893028 │ 188128161         │ 202109   │ 0              │ 0           │"
      ]
     },
     "metadata": {},
     "output_type": "display_data"
    }
   ],
   "source": [
    "using CSV,  DataFrames\n",
    "\n",
    "periodo_anterior(x::Integer) =  x % 100 > 1  ?  x-1  : 12 + (div(x,100) -1) * 100\n",
    "\n",
    "df = CSV.read(\"/home/gscm_5950/Downloads/competencia_03_crudo.csv\", DataFrame)\n",
    "sort!(df, [:numero_de_cliente, :foto_mes])"
   ]
  },
  {
   "cell_type": "code",
   "execution_count": 8,
   "metadata": {},
   "outputs": [
    {
     "data": {
      "text/plain": [
       "\"competencia_03_julia.csv\""
      ]
     },
     "metadata": {},
     "output_type": "display_data"
    }
   ],
   "source": [
    "global periodo_ultimo = maximum( df.foto_mes )\n",
    "global periodo_anteultimo = periodo_anterior( periodo_ultimo)\n",
    "\n",
    "# assign most common class values\n",
    "df.clase_ternaria = @. ifelse( df.foto_mes < periodo_anteultimo, \"CONTINUA\", missing )\n",
    "\n",
    "# pre compute sequential time\n",
    "periodo = @. div(df.foto_mes,100)*12 + df.foto_mes%100\n",
    "\n",
    "global last = nrow(df)\n",
    "\n",
    "for i in 1:last\n",
    "  if df.foto_mes[i] <= periodo_anteultimo &&  i < last && df.numero_de_cliente[i] != df.numero_de_cliente[i+1]\n",
    "          df.clase_ternaria[i] = \"BAJA+1\"\n",
    "  end\n",
    "\n",
    "  if df.foto_mes[i] < periodo_anteultimo &&  i+1 < last && df.numero_de_cliente[i] == df.numero_de_cliente[i+1] &&  periodo[i+1] == periodo[i] +1 &&\n",
    "        ( df.numero_de_cliente[i+1] != df.numero_de_cliente[i+2]  || df.numero_de_cliente[i+1] == df.numero_de_cliente[i+2] && periodo[i+2]  > periodo[i+1] +2)\n",
    "          df.clase_ternaria[i] = \"BAJA+2\"\n",
    "  end\n",
    "end\n",
    "\n",
    "CSV.write( \"competencia_03_julia.csv\", df )"
   ]
  }
 ],
 "metadata": {
  "kernelspec": {
   "display_name": "Julia 1.9.3",
   "language": "julia",
   "name": "julia-1.9"
  },
  "language_info": {
   "file_extension": ".jl",
   "mimetype": "application/julia",
   "name": "julia",
   "version": "1.9.3"
  },
  "orig_nbformat": 4
 },
 "nbformat": 4,
 "nbformat_minor": 2
}
